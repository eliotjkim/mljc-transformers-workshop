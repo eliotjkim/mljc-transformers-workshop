{
 "cells": [
  {
   "cell_type": "markdown",
   "id": "51a8c368",
   "metadata": {},
   "source": [
    "# Ozone Transformer Example"
   ]
  },
  {
   "cell_type": "markdown",
   "id": "97cdf3a9",
   "metadata": {},
   "source": [
    "## Environments Setup\n",
    "\n",
    "1. Create Python virtual environment named `venv`\n",
    "   - `python -m venv venv`\n",
    "2. Activate the new virtual environment `venv`\n",
    "   - `source venv/bin/activate`\n",
    "3. Install required python libraries from `ot_requirements.txt` file\n",
    "   - `pip install -r ot_requirements.txt`\n",
    "4. Select `venv` as python kernel for this JupyterNotebook"
   ]
  },
  {
   "cell_type": "markdown",
   "id": "73ff1fc3",
   "metadata": {},
   "source": [
    "## Ozone Transformer"
   ]
  },
  {
   "cell_type": "code",
   "execution_count": 1,
   "id": "a6983c93",
   "metadata": {},
   "outputs": [
    {
     "name": "stdout",
     "output_type": "stream",
     "text": [
      "Python 3.12.4\n"
     ]
    }
   ],
   "source": [
    "!python --version"
   ]
  },
  {
   "cell_type": "code",
   "execution_count": 2,
   "id": "0b88d4da",
   "metadata": {},
   "outputs": [
    {
     "name": "stderr",
     "output_type": "stream",
     "text": [
      "\n",
      "A module that was compiled using NumPy 1.x cannot be run in\n",
      "NumPy 2.0.2 as it may crash. To support both 1.x and 2.x\n",
      "versions of NumPy, modules must be compiled with NumPy 2.0.\n",
      "Some module may need to rebuild instead e.g. with 'pybind11>=2.12'.\n",
      "\n",
      "If you are a user of the module, the easiest solution will be to\n",
      "downgrade to 'numpy<2' or try to upgrade the affected module.\n",
      "We expect that some modules will need time to support NumPy 2.\n",
      "\n",
      "Traceback (most recent call last):  File \"<frozen runpy>\", line 198, in _run_module_as_main\n",
      "  File \"<frozen runpy>\", line 88, in _run_code\n",
      "  File \"/Users/ejkim/Documents/uw_research/code/mljc/mljc-transformers-workshop/ozonevenv/lib/python3.12/site-packages/ipykernel_launcher.py\", line 18, in <module>\n",
      "    app.launch_new_instance()\n",
      "  File \"/Users/ejkim/Documents/uw_research/code/mljc/mljc-transformers-workshop/ozonevenv/lib/python3.12/site-packages/traitlets/config/application.py\", line 1075, in launch_instance\n",
      "    app.start()\n",
      "  File \"/Users/ejkim/Documents/uw_research/code/mljc/mljc-transformers-workshop/ozonevenv/lib/python3.12/site-packages/ipykernel/kernelapp.py\", line 739, in start\n",
      "    self.io_loop.start()\n",
      "  File \"/Users/ejkim/Documents/uw_research/code/mljc/mljc-transformers-workshop/ozonevenv/lib/python3.12/site-packages/tornado/platform/asyncio.py\", line 211, in start\n",
      "    self.asyncio_loop.run_forever()\n",
      "  File \"/Users/ejkim/miniconda3/lib/python3.12/asyncio/base_events.py\", line 641, in run_forever\n",
      "    self._run_once()\n",
      "  File \"/Users/ejkim/miniconda3/lib/python3.12/asyncio/base_events.py\", line 1987, in _run_once\n",
      "    handle._run()\n",
      "  File \"/Users/ejkim/miniconda3/lib/python3.12/asyncio/events.py\", line 88, in _run\n",
      "    self._context.run(self._callback, *self._args)\n",
      "  File \"/Users/ejkim/Documents/uw_research/code/mljc/mljc-transformers-workshop/ozonevenv/lib/python3.12/site-packages/ipykernel/kernelbase.py\", line 516, in dispatch_queue\n",
      "    await self.process_one()\n",
      "  File \"/Users/ejkim/Documents/uw_research/code/mljc/mljc-transformers-workshop/ozonevenv/lib/python3.12/site-packages/ipykernel/kernelbase.py\", line 505, in process_one\n",
      "    await dispatch(*args)\n",
      "  File \"/Users/ejkim/Documents/uw_research/code/mljc/mljc-transformers-workshop/ozonevenv/lib/python3.12/site-packages/ipykernel/kernelbase.py\", line 397, in dispatch_shell\n",
      "    await result\n",
      "  File \"/Users/ejkim/Documents/uw_research/code/mljc/mljc-transformers-workshop/ozonevenv/lib/python3.12/site-packages/ipykernel/ipkernel.py\", line 368, in execute_request\n",
      "    await super().execute_request(stream, ident, parent)\n",
      "  File \"/Users/ejkim/Documents/uw_research/code/mljc/mljc-transformers-workshop/ozonevenv/lib/python3.12/site-packages/ipykernel/kernelbase.py\", line 752, in execute_request\n",
      "    reply_content = await reply_content\n",
      "  File \"/Users/ejkim/Documents/uw_research/code/mljc/mljc-transformers-workshop/ozonevenv/lib/python3.12/site-packages/ipykernel/ipkernel.py\", line 455, in do_execute\n",
      "    res = shell.run_cell(\n",
      "  File \"/Users/ejkim/Documents/uw_research/code/mljc/mljc-transformers-workshop/ozonevenv/lib/python3.12/site-packages/ipykernel/zmqshell.py\", line 577, in run_cell\n",
      "    return super().run_cell(*args, **kwargs)\n",
      "  File \"/Users/ejkim/Documents/uw_research/code/mljc/mljc-transformers-workshop/ozonevenv/lib/python3.12/site-packages/IPython/core/interactiveshell.py\", line 3048, in run_cell\n",
      "    result = self._run_cell(\n",
      "  File \"/Users/ejkim/Documents/uw_research/code/mljc/mljc-transformers-workshop/ozonevenv/lib/python3.12/site-packages/IPython/core/interactiveshell.py\", line 3103, in _run_cell\n",
      "    result = runner(coro)\n",
      "  File \"/Users/ejkim/Documents/uw_research/code/mljc/mljc-transformers-workshop/ozonevenv/lib/python3.12/site-packages/IPython/core/async_helpers.py\", line 129, in _pseudo_sync_runner\n",
      "    coro.send(None)\n",
      "  File \"/Users/ejkim/Documents/uw_research/code/mljc/mljc-transformers-workshop/ozonevenv/lib/python3.12/site-packages/IPython/core/interactiveshell.py\", line 3308, in run_cell_async\n",
      "    has_raised = await self.run_ast_nodes(code_ast.body, cell_name,\n",
      "  File \"/Users/ejkim/Documents/uw_research/code/mljc/mljc-transformers-workshop/ozonevenv/lib/python3.12/site-packages/IPython/core/interactiveshell.py\", line 3490, in run_ast_nodes\n",
      "    if await self.run_code(code, result, async_=asy):\n",
      "  File \"/Users/ejkim/Documents/uw_research/code/mljc/mljc-transformers-workshop/ozonevenv/lib/python3.12/site-packages/IPython/core/interactiveshell.py\", line 3550, in run_code\n",
      "    exec(code_obj, self.user_global_ns, self.user_ns)\n",
      "  File \"/var/folders/3j/p_3s9pbd0y568lgw9gnvy2780000gn/T/ipykernel_91988/1750776027.py\", line 1, in <module>\n",
      "    import torch\n",
      "  File \"/Users/ejkim/Documents/uw_research/code/mljc/mljc-transformers-workshop/ozonevenv/lib/python3.12/site-packages/torch/__init__.py\", line 1477, in <module>\n",
      "    from .functional import *  # noqa: F403\n",
      "  File \"/Users/ejkim/Documents/uw_research/code/mljc/mljc-transformers-workshop/ozonevenv/lib/python3.12/site-packages/torch/functional.py\", line 9, in <module>\n",
      "    import torch.nn.functional as F\n",
      "  File \"/Users/ejkim/Documents/uw_research/code/mljc/mljc-transformers-workshop/ozonevenv/lib/python3.12/site-packages/torch/nn/__init__.py\", line 1, in <module>\n",
      "    from .modules import *  # noqa: F403\n",
      "  File \"/Users/ejkim/Documents/uw_research/code/mljc/mljc-transformers-workshop/ozonevenv/lib/python3.12/site-packages/torch/nn/modules/__init__.py\", line 35, in <module>\n",
      "    from .transformer import TransformerEncoder, TransformerDecoder, \\\n",
      "  File \"/Users/ejkim/Documents/uw_research/code/mljc/mljc-transformers-workshop/ozonevenv/lib/python3.12/site-packages/torch/nn/modules/transformer.py\", line 20, in <module>\n",
      "    device: torch.device = torch.device(torch._C._get_default_device()),  # torch.device('cpu'),\n",
      "/Users/ejkim/Documents/uw_research/code/mljc/mljc-transformers-workshop/ozonevenv/lib/python3.12/site-packages/torch/nn/modules/transformer.py:20: UserWarning: Failed to initialize NumPy: _ARRAY_API not found (Triggered internally at /Users/runner/work/pytorch/pytorch/pytorch/torch/csrc/utils/tensor_numpy.cpp:84.)\n",
      "  device: torch.device = torch.device(torch._C._get_default_device()),  # torch.device('cpu'),\n"
     ]
    }
   ],
   "source": [
    "import torch\n",
    "import xarray as xr"
   ]
  },
  {
   "cell_type": "code",
   "execution_count": 3,
   "id": "1a90a109",
   "metadata": {},
   "outputs": [],
   "source": [
    "xr_ot = xr.open_dataset(\"data/mljc_workshop_o3_L25.nc\")"
   ]
  }
 ],
 "metadata": {
  "kernelspec": {
   "display_name": "ozonevenv",
   "language": "python",
   "name": "python3"
  },
  "language_info": {
   "codemirror_mode": {
    "name": "ipython",
    "version": 3
   },
   "file_extension": ".py",
   "mimetype": "text/x-python",
   "name": "python",
   "nbconvert_exporter": "python",
   "pygments_lexer": "ipython3",
   "version": "3.12.4"
  }
 },
 "nbformat": 4,
 "nbformat_minor": 5
}
