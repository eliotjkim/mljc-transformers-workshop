{
 "cells": [
  {
   "cell_type": "markdown",
   "id": "51a8c368",
   "metadata": {},
   "source": [
    "# Ozone Transformer Example"
   ]
  },
  {
   "cell_type": "markdown",
   "id": "97cdf3a9",
   "metadata": {},
   "source": [
    "## Environments\n",
    "\n",
    "1. Create Python virtual environment named `venv`\n",
    "   - `python -m venv venv`\n",
    "2. Activate the new virtual environment `venv`\n",
    "   - `source venv/bin/activate`\n",
    "3. Install required python libraries from `ot_requirements.txt` file\n",
    "   - `pip install -r ot_requirements.txt`\n",
    "4. Select `venv` as python kernel for this JupyterNotebook"
   ]
  },
  {
   "cell_type": "markdown",
   "id": "73ff1fc3",
   "metadata": {},
   "source": [
    "## Ozone Transformer"
   ]
  },
  {
   "cell_type": "code",
   "execution_count": 1,
   "id": "0b88d4da",
   "metadata": {},
   "outputs": [],
   "source": [
    "import torch"
   ]
  },
  {
   "cell_type": "code",
   "execution_count": null,
   "id": "1a90a109",
   "metadata": {},
   "outputs": [],
   "source": []
  },
  {
   "cell_type": "code",
   "execution_count": null,
   "id": "a49bcadf",
   "metadata": {},
   "outputs": [],
   "source": []
  },
  {
   "cell_type": "code",
   "execution_count": null,
   "id": "4728857e",
   "metadata": {},
   "outputs": [],
   "source": []
  },
  {
   "cell_type": "code",
   "execution_count": null,
   "id": "4db2c1d8",
   "metadata": {},
   "outputs": [],
   "source": []
  }
 ],
 "metadata": {
  "kernelspec": {
   "display_name": "Python 3",
   "language": "python",
   "name": "python3"
  },
  "language_info": {
   "codemirror_mode": {
    "name": "ipython",
    "version": 3
   },
   "file_extension": ".py",
   "mimetype": "text/x-python",
   "name": "python",
   "nbconvert_exporter": "python",
   "pygments_lexer": "ipython3",
   "version": "3.11.5"
  }
 },
 "nbformat": 4,
 "nbformat_minor": 5
}
